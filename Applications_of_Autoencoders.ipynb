{
  "nbformat": 4,
  "nbformat_minor": 0,
  "metadata": {
    "colab": {
      "name": "Applications of Autoencoders.ipynb",
      "provenance": [],
      "collapsed_sections": []
    },
    "kernelspec": {
      "name": "python3",
      "display_name": "Python 3"
    },
    "accelerator": "GPU"
  },
  "cells": [
    {
      "cell_type": "markdown",
      "metadata": {
        "id": "3ReKhZpSw7D5",
        "colab_type": "text"
      },
      "source": [
        "<b><h1> Image Denoising with Deep Convolutional AutoEncoder</h1><b>"
      ]
    },
    {
      "cell_type": "code",
      "metadata": {
        "id": "KjWzE4Ibw0Cw",
        "colab_type": "code",
        "colab": {}
      },
      "source": [
        "# Reading the Dataset of MNIST\n",
        "# importing necessary libraries\n",
        "from keras.datasets import mnist\n",
        "import numpy as np\n",
        "\n",
        "(x_train, _), (x_test, _) = mnist.load_data()"
      ],
      "execution_count": 0,
      "outputs": []
    },
    {
      "cell_type": "code",
      "metadata": {
        "id": "c2tcHMaqxtTc",
        "colab_type": "code",
        "colab": {
          "base_uri": "https://localhost:8080/",
          "height": 282
        },
        "outputId": "d03c38a4-00d5-4c8d-db3d-606077b78e74"
      },
      "source": [
        "# showing image from the data\n",
        "import matplotlib.pyplot as plt\n",
        "\n",
        "image = x_train[0]\n",
        "plt.imshow(image,cmap='gray')"
      ],
      "execution_count": 43,
      "outputs": [
        {
          "output_type": "execute_result",
          "data": {
            "text/plain": [
              "<matplotlib.image.AxesImage at 0x7f35c5781a90>"
            ]
          },
          "metadata": {
            "tags": []
          },
          "execution_count": 43
        },
        {
          "output_type": "display_data",
          "data": {
            "image/png": "[encoded data removed]",
            "text/plain": [
              "<Figure size 432x288 with 1 Axes>"
            ]
          },
          "metadata": {
            "tags": [],
            "needs_background": "light"
          }
        }
      ]
    },
    {
      "cell_type": "code",
      "metadata": {
        "id": "I24teSOzyzFE",
        "colab_type": "code",
        "colab": {
          "base_uri": "https://localhost:8080/",
          "height": 34
        },
        "outputId": "ab0f2a11-3a40-48df-cbec-38815408714d"
      },
      "source": [
        "x_train.shape"
      ],
      "execution_count": 44,
      "outputs": [
        {
          "output_type": "execute_result",
          "data": {
            "text/plain": [
              "(60000, 28, 28)"
            ]
          },
          "metadata": {
            "tags": []
          },
          "execution_count": 44
        }
      ]
    },
    {
      "cell_type": "code",
      "metadata": {
        "id": "zwlhkivqyBPR",
        "colab_type": "code",
        "colab": {}
      },
      "source": [
        "# Normalizing the input data\n",
        "x_train = x_train/255.\n",
        "x_test = x_test/255.\n",
        "\n",
        "# Reshaping the input\n",
        "x_train = np.reshape(x_train, (len(x_train), 28, 28, 1)) \n",
        "x_test = np.reshape(x_test, (len(x_test), 28, 28, 1)) "
      ],
      "execution_count": 0,
      "outputs": []
    },
    {
      "cell_type": "code",
      "metadata": {
        "id": "Qsb2XSMayoKB",
        "colab_type": "code",
        "colab": {
          "base_uri": "https://localhost:8080/",
          "height": 34
        },
        "outputId": "6455aac4-ec46-4eda-a722-29ae97fe4095"
      },
      "source": [
        "x_train.shape #added color channel to the image"
      ],
      "execution_count": 46,
      "outputs": [
        {
          "output_type": "execute_result",
          "data": {
            "text/plain": [
              "(60000, 28, 28, 1)"
            ]
          },
          "metadata": {
            "tags": []
          },
          "execution_count": 46
        }
      ]
    },
    {
      "cell_type": "code",
      "metadata": {
        "id": "bZWuPojv6rl0",
        "colab_type": "code",
        "colab": {
          "base_uri": "https://localhost:8080/",
          "height": 34
        },
        "outputId": "6e89c6c2-5278-4063-9685-13b32cef3011"
      },
      "source": [
        "x_test.shape"
      ],
      "execution_count": 53,
      "outputs": [
        {
          "output_type": "execute_result",
          "data": {
            "text/plain": [
              "(10000, 28, 28, 1)"
            ]
          },
          "metadata": {
            "tags": []
          },
          "execution_count": 53
        }
      ]
    },
    {
      "cell_type": "code",
      "metadata": {
        "id": "BBPi9RbvzBXQ",
        "colab_type": "code",
        "colab": {}
      },
      "source": [
        "# Adding noise to the image \n",
        "noise_factor = 0.3\n",
        "\n",
        "x_train_noise = x_train + noise_factor * np.random.normal(loc=0.0,scale=1.0,size=x_train.shape)\n",
        "x_test_noise = x_test + noise_factor * np.random.normal(loc=0.0,scale=1.0,size=x_test.shape)"
      ],
      "execution_count": 0,
      "outputs": []
    },
    {
      "cell_type": "code",
      "metadata": {
        "id": "G8SzZ67oznCi",
        "colab_type": "code",
        "colab": {}
      },
      "source": [
        "x_train_noise = np.clip(x_train_noise, 0., 1.)\n",
        "x_test_noise = np.clip(x_test_noise, 0., 1.)"
      ],
      "execution_count": 0,
      "outputs": []
    },
    {
      "cell_type": "code",
      "metadata": {
        "id": "i4TFHF_bzwb1",
        "colab_type": "code",
        "colab": {
          "base_uri": "https://localhost:8080/",
          "height": 129
        },
        "outputId": "79a7960b-4842-4f47-93ef-e6ce95152298"
      },
      "source": [
        "n = 10  # how many digits we will display\n",
        "plt.figure(figsize=(20, 4))\n",
        "for i in range(n):\n",
        "    # display noisy images\n",
        "    ax = plt.subplot(1, n, i + 1)\n",
        "    plt.imshow(x_train_noise[i].reshape(28, 28))\n",
        "    plt.gray()\n",
        "    ax.get_xaxis().set_visible(False)\n",
        "    ax.get_yaxis().set_visible(False)\n",
        "plt.show()"
      ],
      "execution_count": 49,
      "outputs": [
        {
          "output_type": "display_data",
          "data": {
            "image/png": "[encoded data removed]",
            "text/plain": [
              "<Figure size 1440x288 with 10 Axes>"
            ]
          },
          "metadata": {
            "tags": [],
            "needs_background": "light"
          }
        }
      ]
    },
    {
      "cell_type": "code",
      "metadata": {
        "id": "zvetj7W2z3Ld",
        "colab_type": "code",
        "colab": {}
      },
      "source": [
        "# creating our Model \n",
        "from keras.layers import Conv2D,MaxPooling2D,UpSampling2D,Input, Dense\n",
        "from keras.models import Model\n",
        "\n",
        "\n",
        "input_img = Input(shape=(28, 28, 1))\n",
        "\n",
        "# # creating the encoder model here\n",
        "x = Conv2D(32, (3, 3), activation='relu', padding='same')(input_img)\n",
        "x = MaxPooling2D((2, 2), padding='same')(x)\n",
        "x = Conv2D(32, (3, 3), activation='relu', padding='same')(x)\n",
        "encoded = MaxPooling2D((2, 2), padding='same')(x)\n",
        "\n",
        "# at this point the representation is (7, 7, 32)\n",
        "\n",
        "# # creating the decoder model here\n",
        "x = Conv2D(32, (3, 3), activation='relu', padding='same')(encoded)\n",
        "x = UpSampling2D((2, 2))(x)\n",
        "x = Conv2D(32, (3, 3), activation='relu', padding='same')(x)\n",
        "x = UpSampling2D((2, 2))(x)\n",
        "decoded = Conv2D(1, (3, 3), activation='sigmoid', padding='same')(x)"
      ],
      "execution_count": 0,
      "outputs": []
    },
    {
      "cell_type": "code",
      "metadata": {
        "id": "fnyUm4lG5pdC",
        "colab_type": "code",
        "colab": {}
      },
      "source": [
        "# combining both Encoder and Decoder to get an Auto Encoder\n",
        "autoencoder = Model(input_img, decoded)\n",
        "# compiling the model\n",
        "from keras.optimizers import adadelta\n",
        "autoencoder.compile(optimizer='adadelta', loss='binary_crossentropy')"
      ],
      "execution_count": 0,
      "outputs": []
    },
    {
      "cell_type": "code",
      "metadata": {
        "id": "K3ypOy5i5YbB",
        "colab_type": "code",
        "colab": {
          "base_uri": "https://localhost:8080/",
          "height": 1000
        },
        "outputId": "092892f6-ea1c-4117-97ec-95b0e81085e1"
      },
      "source": [
        "# fitting and training the model on our data\n",
        "autoencoder.fit(x_train_noise, x_train,\n",
        "                epochs=100,\n",
        "                batch_size=128,\n",
        "                shuffle=True,\n",
        "                validation_data=(x_test_noise, x_test))"
      ],
      "execution_count": 54,
      "outputs": [
        {
          "output_type": "stream",
          "text": [
            "Train on 60000 samples, validate on 10000 samples\n",
            "Epoch 1/100\n",
            "60000/60000 [==============================] - 9s 154us/step - loss: 0.1483 - val_loss: 0.0987\n",
            "Epoch 2/100\n",
            "60000/60000 [==============================] - 3s 51us/step - loss: 0.0968 - val_loss: 0.0895\n",
            "Epoch 3/100\n",
            "60000/60000 [==============================] - 3s 50us/step - loss: 0.0913 - val_loss: 0.0871\n",
            "Epoch 4/100\n",
            "60000/60000 [==============================] - 3s 50us/step - loss: 0.0885 - val_loss: 0.0877\n",
            "Epoch 5/100\n",
            "60000/60000 [==============================] - 3s 51us/step - loss: 0.0866 - val_loss: 0.0840\n",
            "Epoch 6/100\n",
            "60000/60000 [==============================] - 3s 51us/step - loss: 0.0852 - val_loss: 0.0834\n",
            "Epoch 7/100\n",
            "60000/60000 [==============================] - 3s 51us/step - loss: 0.0843 - val_loss: 0.0831\n",
            "Epoch 8/100\n",
            "60000/60000 [==============================] - 3s 51us/step - loss: 0.0835 - val_loss: 0.0816\n",
            "Epoch 9/100\n",
            "60000/60000 [==============================] - 3s 50us/step - loss: 0.0830 - val_loss: 0.0823\n",
            "Epoch 10/100\n",
            "60000/60000 [==============================] - 3s 50us/step - loss: 0.0824 - val_loss: 0.0811\n",
            "Epoch 11/100\n",
            "60000/60000 [==============================] - 3s 50us/step - loss: 0.0820 - val_loss: 0.0808\n",
            "Epoch 12/100\n",
            "60000/60000 [==============================] - 3s 50us/step - loss: 0.0816 - val_loss: 0.0805\n",
            "Epoch 13/100\n",
            "60000/60000 [==============================] - 3s 51us/step - loss: 0.0813 - val_loss: 0.0815\n",
            "Epoch 14/100\n",
            "60000/60000 [==============================] - 3s 51us/step - loss: 0.0810 - val_loss: 0.0811\n",
            "Epoch 15/100\n",
            "60000/60000 [==============================] - 3s 51us/step - loss: 0.0807 - val_loss: 0.0796\n",
            "Epoch 16/100\n",
            "60000/60000 [==============================] - 3s 50us/step - loss: 0.0805 - val_loss: 0.0804\n",
            "Epoch 17/100\n",
            "60000/60000 [==============================] - 3s 50us/step - loss: 0.0804 - val_loss: 0.0793\n",
            "Epoch 18/100\n",
            "60000/60000 [==============================] - 3s 50us/step - loss: 0.0801 - val_loss: 0.0797\n",
            "Epoch 19/100\n",
            "60000/60000 [==============================] - 3s 50us/step - loss: 0.0801 - val_loss: 0.0789\n",
            "Epoch 20/100\n",
            "60000/60000 [==============================] - 3s 50us/step - loss: 0.0799 - val_loss: 0.0788\n",
            "Epoch 21/100\n",
            "60000/60000 [==============================] - 3s 50us/step - loss: 0.0798 - val_loss: 0.0786\n",
            "Epoch 22/100\n",
            "60000/60000 [==============================] - 3s 51us/step - loss: 0.0796 - val_loss: 0.0789\n",
            "Epoch 23/100\n",
            "60000/60000 [==============================] - 3s 51us/step - loss: 0.0796 - val_loss: 0.0794\n",
            "Epoch 24/100\n",
            "60000/60000 [==============================] - 3s 51us/step - loss: 0.0795 - val_loss: 0.0793\n",
            "Epoch 25/100\n",
            "60000/60000 [==============================] - 3s 53us/step - loss: 0.0793 - val_loss: 0.0791\n",
            "Epoch 26/100\n",
            "60000/60000 [==============================] - 3s 53us/step - loss: 0.0793 - val_loss: 0.0792\n",
            "Epoch 27/100\n",
            "60000/60000 [==============================] - 3s 52us/step - loss: 0.0792 - val_loss: 0.0782\n",
            "Epoch 28/100\n",
            "60000/60000 [==============================] - 3s 52us/step - loss: 0.0791 - val_loss: 0.0781\n",
            "Epoch 29/100\n",
            "60000/60000 [==============================] - 3s 51us/step - loss: 0.0790 - val_loss: 0.0781\n",
            "Epoch 30/100\n",
            "60000/60000 [==============================] - 3s 51us/step - loss: 0.0789 - val_loss: 0.0780\n",
            "Epoch 31/100\n",
            "60000/60000 [==============================] - 3s 51us/step - loss: 0.0789 - val_loss: 0.0790\n",
            "Epoch 32/100\n",
            "60000/60000 [==============================] - 3s 51us/step - loss: 0.0788 - val_loss: 0.0780\n",
            "Epoch 33/100\n",
            "60000/60000 [==============================] - 3s 50us/step - loss: 0.0788 - val_loss: 0.0779\n",
            "Epoch 34/100\n",
            "60000/60000 [==============================] - 3s 51us/step - loss: 0.0787 - val_loss: 0.0791\n",
            "Epoch 35/100\n",
            "60000/60000 [==============================] - 3s 51us/step - loss: 0.0787 - val_loss: 0.0789\n",
            "Epoch 36/100\n",
            "60000/60000 [==============================] - 3s 51us/step - loss: 0.0786 - val_loss: 0.0785\n",
            "Epoch 37/100\n",
            "60000/60000 [==============================] - 3s 51us/step - loss: 0.0785 - val_loss: 0.0786\n",
            "Epoch 38/100\n",
            "60000/60000 [==============================] - 3s 51us/step - loss: 0.0784 - val_loss: 0.0778\n",
            "Epoch 39/100\n",
            "60000/60000 [==============================] - 3s 51us/step - loss: 0.0785 - val_loss: 0.0779\n",
            "Epoch 40/100\n",
            "60000/60000 [==============================] - 3s 51us/step - loss: 0.0784 - val_loss: 0.0784\n",
            "Epoch 41/100\n",
            "60000/60000 [==============================] - 3s 51us/step - loss: 0.0783 - val_loss: 0.0779\n",
            "Epoch 42/100\n",
            "60000/60000 [==============================] - 3s 51us/step - loss: 0.0783 - val_loss: 0.0779\n",
            "Epoch 43/100\n",
            "60000/60000 [==============================] - 3s 51us/step - loss: 0.0782 - val_loss: 0.0782\n",
            "Epoch 44/100\n",
            "60000/60000 [==============================] - 3s 51us/step - loss: 0.0782 - val_loss: 0.0778\n",
            "Epoch 45/100\n",
            "60000/60000 [==============================] - 3s 51us/step - loss: 0.0781 - val_loss: 0.0774\n",
            "Epoch 46/100\n",
            "60000/60000 [==============================] - 3s 50us/step - loss: 0.0782 - val_loss: 0.0774\n",
            "Epoch 47/100\n",
            "60000/60000 [==============================] - 3s 50us/step - loss: 0.0781 - val_loss: 0.0779\n",
            "Epoch 48/100\n",
            "60000/60000 [==============================] - 3s 51us/step - loss: 0.0781 - val_loss: 0.0773\n",
            "Epoch 49/100\n",
            "60000/60000 [==============================] - 3s 51us/step - loss: 0.0780 - val_loss: 0.0775\n",
            "Epoch 50/100\n",
            "60000/60000 [==============================] - 3s 51us/step - loss: 0.0780 - val_loss: 0.0772\n",
            "Epoch 51/100\n",
            "60000/60000 [==============================] - 3s 51us/step - loss: 0.0780 - val_loss: 0.0772\n",
            "Epoch 52/100\n",
            "60000/60000 [==============================] - 3s 51us/step - loss: 0.0780 - val_loss: 0.0775\n",
            "Epoch 53/100\n",
            "60000/60000 [==============================] - 3s 51us/step - loss: 0.0779 - val_loss: 0.0778\n",
            "Epoch 54/100\n",
            "60000/60000 [==============================] - 3s 52us/step - loss: 0.0778 - val_loss: 0.0776\n",
            "Epoch 55/100\n",
            "60000/60000 [==============================] - 3s 52us/step - loss: 0.0779 - val_loss: 0.0777\n",
            "Epoch 56/100\n",
            "60000/60000 [==============================] - 3s 51us/step - loss: 0.0778 - val_loss: 0.0781\n",
            "Epoch 57/100\n",
            "60000/60000 [==============================] - 3s 51us/step - loss: 0.0779 - val_loss: 0.0775\n",
            "Epoch 58/100\n",
            "60000/60000 [==============================] - 3s 51us/step - loss: 0.0778 - val_loss: 0.0771\n",
            "Epoch 59/100\n",
            "60000/60000 [==============================] - 3s 51us/step - loss: 0.0778 - val_loss: 0.0775\n",
            "Epoch 60/100\n",
            "60000/60000 [==============================] - 3s 50us/step - loss: 0.0777 - val_loss: 0.0774\n",
            "Epoch 61/100\n",
            "60000/60000 [==============================] - 3s 51us/step - loss: 0.0777 - val_loss: 0.0774\n",
            "Epoch 62/100\n",
            "60000/60000 [==============================] - 3s 51us/step - loss: 0.0776 - val_loss: 0.0772\n",
            "Epoch 63/100\n",
            "60000/60000 [==============================] - 3s 51us/step - loss: 0.0777 - val_loss: 0.0770\n",
            "Epoch 64/100\n",
            "60000/60000 [==============================] - 3s 51us/step - loss: 0.0776 - val_loss: 0.0772\n",
            "Epoch 65/100\n",
            "60000/60000 [==============================] - 3s 51us/step - loss: 0.0777 - val_loss: 0.0770\n",
            "Epoch 66/100\n",
            "60000/60000 [==============================] - 3s 51us/step - loss: 0.0775 - val_loss: 0.0773\n",
            "Epoch 67/100\n",
            "60000/60000 [==============================] - 3s 51us/step - loss: 0.0775 - val_loss: 0.0769\n",
            "Epoch 68/100\n",
            "60000/60000 [==============================] - 3s 51us/step - loss: 0.0776 - val_loss: 0.0770\n",
            "Epoch 69/100\n",
            "60000/60000 [==============================] - 3s 51us/step - loss: 0.0775 - val_loss: 0.0768\n",
            "Epoch 70/100\n",
            "60000/60000 [==============================] - 3s 51us/step - loss: 0.0775 - val_loss: 0.0781\n",
            "Epoch 71/100\n",
            "60000/60000 [==============================] - 3s 51us/step - loss: 0.0775 - val_loss: 0.0770\n",
            "Epoch 72/100\n",
            "60000/60000 [==============================] - 3s 50us/step - loss: 0.0774 - val_loss: 0.0774\n",
            "Epoch 73/100\n",
            "60000/60000 [==============================] - 3s 50us/step - loss: 0.0774 - val_loss: 0.0771\n",
            "Epoch 74/100\n",
            "60000/60000 [==============================] - 3s 51us/step - loss: 0.0774 - val_loss: 0.0767\n",
            "Epoch 75/100\n",
            "60000/60000 [==============================] - 3s 51us/step - loss: 0.0773 - val_loss: 0.0772\n",
            "Epoch 76/100\n",
            "60000/60000 [==============================] - 3s 51us/step - loss: 0.0774 - val_loss: 0.0771\n",
            "Epoch 77/100\n",
            "60000/60000 [==============================] - 3s 52us/step - loss: 0.0774 - val_loss: 0.0767\n",
            "Epoch 78/100\n",
            "60000/60000 [==============================] - 3s 51us/step - loss: 0.0774 - val_loss: 0.0769\n",
            "Epoch 79/100\n",
            "60000/60000 [==============================] - 3s 51us/step - loss: 0.0773 - val_loss: 0.0767\n",
            "Epoch 80/100\n",
            "60000/60000 [==============================] - 3s 51us/step - loss: 0.0772 - val_loss: 0.0767\n",
            "Epoch 81/100\n",
            "60000/60000 [==============================] - 3s 51us/step - loss: 0.0773 - val_loss: 0.0768\n",
            "Epoch 82/100\n",
            "60000/60000 [==============================] - 3s 51us/step - loss: 0.0773 - val_loss: 0.0766\n",
            "Epoch 83/100\n",
            "60000/60000 [==============================] - 3s 51us/step - loss: 0.0773 - val_loss: 0.0767\n",
            "Epoch 84/100\n",
            "60000/60000 [==============================] - 3s 51us/step - loss: 0.0773 - val_loss: 0.0768\n",
            "Epoch 85/100\n",
            "60000/60000 [==============================] - 3s 51us/step - loss: 0.0773 - val_loss: 0.0766\n",
            "Epoch 86/100\n",
            "60000/60000 [==============================] - 3s 51us/step - loss: 0.0772 - val_loss: 0.0771\n",
            "Epoch 87/100\n",
            "60000/60000 [==============================] - 3s 51us/step - loss: 0.0772 - val_loss: 0.0770\n",
            "Epoch 88/100\n",
            "60000/60000 [==============================] - 3s 51us/step - loss: 0.0772 - val_loss: 0.0769\n",
            "Epoch 89/100\n",
            "60000/60000 [==============================] - 3s 51us/step - loss: 0.0772 - val_loss: 0.0771\n",
            "Epoch 90/100\n",
            "60000/60000 [==============================] - 3s 50us/step - loss: 0.0772 - val_loss: 0.0770\n",
            "Epoch 91/100\n",
            "60000/60000 [==============================] - 3s 50us/step - loss: 0.0771 - val_loss: 0.0771\n",
            "Epoch 92/100\n",
            "60000/60000 [==============================] - 3s 51us/step - loss: 0.0772 - val_loss: 0.0766\n",
            "Epoch 93/100\n",
            "60000/60000 [==============================] - 3s 51us/step - loss: 0.0771 - val_loss: 0.0770\n",
            "Epoch 94/100\n",
            "60000/60000 [==============================] - 3s 51us/step - loss: 0.0771 - val_loss: 0.0772\n",
            "Epoch 95/100\n",
            "60000/60000 [==============================] - 3s 50us/step - loss: 0.0771 - val_loss: 0.0769\n",
            "Epoch 96/100\n",
            "60000/60000 [==============================] - 3s 50us/step - loss: 0.0771 - val_loss: 0.0767\n",
            "Epoch 97/100\n",
            "60000/60000 [==============================] - 3s 50us/step - loss: 0.0771 - val_loss: 0.0765\n",
            "Epoch 98/100\n",
            "60000/60000 [==============================] - 3s 51us/step - loss: 0.0770 - val_loss: 0.0765\n",
            "Epoch 99/100\n",
            "60000/60000 [==============================] - 3s 50us/step - loss: 0.0770 - val_loss: 0.0765\n",
            "Epoch 100/100\n",
            "60000/60000 [==============================] - 3s 51us/step - loss: 0.0771 - val_loss: 0.0768\n"
          ],
          "name": "stdout"
        },
        {
          "output_type": "execute_result",
          "data": {
            "text/plain": [
              "<keras.callbacks.callbacks.History at 0x7f35b045c780>"
            ]
          },
          "metadata": {
            "tags": []
          },
          "execution_count": 54
        }
      ]
    },
    {
      "cell_type": "code",
      "metadata": {
        "id": "ejZNlQcE6Olj",
        "colab_type": "code",
        "colab": {
          "base_uri": "https://localhost:8080/",
          "height": 248
        },
        "outputId": "c1ed5b03-d7d5-41a3-a779-60ed04b340e7"
      },
      "source": [
        "decoded_imgs = autoencoder.predict(x_test)\n",
        "\n",
        "n = 10  # how many digits we will display\n",
        "plt.figure(figsize=(20, 4))\n",
        "for i in range(n):\n",
        "    # display original\n",
        "    ax = plt.subplot(2, n, i + 1)\n",
        "    plt.imshow(x_test_noise[i].reshape(28, 28))\n",
        "    plt.gray()\n",
        "    ax.get_xaxis().set_visible(False)\n",
        "    ax.get_yaxis().set_visible(False)\n",
        "\n",
        "    # display reconstruction\n",
        "    ax = plt.subplot(2, n, i + 1 + n)\n",
        "    plt.imshow(decoded_imgs[i].reshape(28, 28))\n",
        "    plt.gray()\n",
        "    ax.get_xaxis().set_visible(False)\n",
        "    ax.get_yaxis().set_visible(False)\n",
        "plt.show()"
      ],
      "execution_count": 55,
      "outputs": [
        {
          "output_type": "display_data",
          "data": {
            "image/png": "[encoded data removed]",
            "text/plain": [
              "<Figure size 1440x288 with 20 Axes>"
            ]
          },
          "metadata": {
            "tags": [],
            "needs_background": "light"
          }
        }
      ]
    },
    {
      "cell_type": "markdown",
      "metadata": {
        "id": "fU4e4fA58ZoG",
        "colab_type": "text"
      },
      "source": [
        "<b><h1> Image Reconstruction with Deep AutoEncoder</h1><b>"
      ]
    },
    {
      "cell_type": "code",
      "metadata": {
        "id": "lvCajoQc_M85",
        "colab_type": "code",
        "colab": {
          "base_uri": "https://localhost:8080/",
          "height": 102
        },
        "outputId": "5385bbd2-0150-4306-dd1a-941bf02e1404"
      },
      "source": [
        "!pip install keract"
      ],
      "execution_count": 71,
      "outputs": [
        {
          "output_type": "stream",
          "text": [
            "Collecting keract\n",
            "  Downloading https://files.pythonhosted.org/packages/ad/7f/74c42d4f6fcd09de8a0ebad1bde5484510a80c03df7d0b0db18474aaade5/keract-3.1.0-py3-none-any.whl\n",
            "Requirement already satisfied: numpy>=1.16.2 in /usr/local/lib/python3.6/dist-packages (from keract) (1.18.3)\n",
            "Installing collected packages: keract\n",
            "Successfully installed keract-3.1.0\n"
          ],
          "name": "stdout"
        }
      ]
    },
    {
      "cell_type": "code",
      "metadata": {
        "id": "rtxaP-Qj_X_9",
        "colab_type": "code",
        "colab": {
          "base_uri": "https://localhost:8080/",
          "height": 1000
        },
        "outputId": "28e50290-9cda-43c1-8e25-e3b4c4c025d2"
      },
      "source": [
        "'''\n",
        "  Visualizing the encoded state of a simple autoencoder created with the Keras Functional API\n",
        "  with Keract.\n",
        "'''\n",
        "import keras\n",
        "from keras.layers import Input, Dense\n",
        "from keras.datasets import mnist\n",
        "from keras.models import Model\n",
        "from keract import get_activations, display_activations\n",
        "import matplotlib.pyplot as plt\n",
        "\n",
        "# Model configuration\n",
        "img_width, img_height = 28, 28\n",
        "initial_dimension = img_width * img_height\n",
        "batch_size = 128\n",
        "no_epochs = 10\n",
        "validation_split = 0.2\n",
        "verbosity = 1\n",
        "encoded_dim = 50\n",
        "\n",
        "# Load MNIST dataset\n",
        "(input_train, target_train), (input_test, target_test) = mnist.load_data()\n",
        "\n",
        "# Reshape data\n",
        "input_train = input_train.reshape(input_train.shape[0], initial_dimension)\n",
        "input_test = input_test.reshape(input_test.shape[0], initial_dimension)\n",
        "input_shape = (initial_dimension, )\n",
        "\n",
        "# Parse numbers as floats\n",
        "input_train = input_train.astype('float32')\n",
        "input_test = input_test.astype('float32')\n",
        "\n",
        "# Normalize data\n",
        "input_train = input_train / 255\n",
        "input_test = input_test / 255\n",
        "\n",
        "# Define the layers\n",
        "inputs = Input(shape=input_shape)\n",
        "encoding_layer = Dense(encoded_dim, activation='relu', kernel_initializer='he_normal')(inputs)\n",
        "decoding_layer = Dense(initial_dimension, activation='sigmoid')(encoding_layer)\n",
        "\n",
        "# Instantiate the autoencoder\n",
        "autoencoder = Model(inputs, decoding_layer, name='full_autoencoder')\n",
        "\n",
        "# Instantiate the encoder\n",
        "encoder = Model(inputs, encoding_layer, name='encoder')\n",
        "\n",
        "# Instantiate the decoder\n",
        "encoded_input = Input(shape=(encoded_dim, ))\n",
        "final_ae_layer = autoencoder.layers[-1]\n",
        "decoder = Model(encoded_input, final_ae_layer(encoded_input), name='decoder')\n",
        "\n",
        "# Compile the autoencoder\n",
        "encoder.compile(optimizer='adam', loss='binary_crossentropy')\n",
        "autoencoder.compile(optimizer='adam', loss='binary_crossentropy')\n",
        "\n",
        "# Give us some insights\n",
        "autoencoder.summary()\n",
        "encoder.summary()\n",
        "decoder.summary()\n",
        "\n",
        "# Fit data\n",
        "autoencoder.fit(input_train, input_train, epochs=no_epochs, batch_size=batch_size, validation_split=validation_split)"
      ],
      "execution_count": 79,
      "outputs": [
        {
          "output_type": "stream",
          "text": [
            "Model: \"full_autoencoder\"\n",
            "_________________________________________________________________\n",
            "Layer (type)                 Output Shape              Param #   \n",
            "=================================================================\n",
            "input_17 (InputLayer)        (None, 784)               0         \n",
            "_________________________________________________________________\n",
            "dense_7 (Dense)              (None, 50)                39250     \n",
            "_________________________________________________________________\n",
            "dense_8 (Dense)              (None, 784)               39984     \n",
            "=================================================================\n",
            "Total params: 79,234\n",
            "Trainable params: 79,234\n",
            "Non-trainable params: 0\n",
            "_________________________________________________________________\n",
            "Model: \"encoder\"\n",
            "_________________________________________________________________\n",
            "Layer (type)                 Output Shape              Param #   \n",
            "=================================================================\n",
            "input_17 (InputLayer)        (None, 784)               0         \n",
            "_________________________________________________________________\n",
            "dense_7 (Dense)              (None, 50)                39250     \n",
            "=================================================================\n",
            "Total params: 39,250\n",
            "Trainable params: 39,250\n",
            "Non-trainable params: 0\n",
            "_________________________________________________________________\n",
            "Model: \"decoder\"\n",
            "_________________________________________________________________\n",
            "Layer (type)                 Output Shape              Param #   \n",
            "=================================================================\n",
            "input_18 (InputLayer)        (None, 50)                0         \n",
            "_________________________________________________________________\n",
            "dense_8 (Dense)              (None, 784)               39984     \n",
            "=================================================================\n",
            "Total params: 39,984\n",
            "Trainable params: 39,984\n",
            "Non-trainable params: 0\n",
            "_________________________________________________________________\n",
            "Train on 48000 samples, validate on 12000 samples\n",
            "Epoch 1/10\n",
            "48000/48000 [==============================] - 1s 25us/step - loss: 0.2228 - val_loss: 0.1528\n",
            "Epoch 2/10\n",
            "48000/48000 [==============================] - 1s 24us/step - loss: 0.1350 - val_loss: 0.1209\n",
            "Epoch 3/10\n",
            "48000/48000 [==============================] - 1s 23us/step - loss: 0.1122 - val_loss: 0.1048\n",
            "Epoch 4/10\n",
            "48000/48000 [==============================] - 1s 24us/step - loss: 0.0994 - val_loss: 0.0955\n",
            "Epoch 5/10\n",
            "48000/48000 [==============================] - 1s 24us/step - loss: 0.0912 - val_loss: 0.0888\n",
            "Epoch 6/10\n",
            "48000/48000 [==============================] - 1s 23us/step - loss: 0.0861 - val_loss: 0.0851\n",
            "Epoch 7/10\n",
            "48000/48000 [==============================] - 1s 23us/step - loss: 0.0833 - val_loss: 0.0830\n",
            "Epoch 8/10\n",
            "48000/48000 [==============================] - 1s 24us/step - loss: 0.0817 - val_loss: 0.0818\n",
            "Epoch 9/10\n",
            "48000/48000 [==============================] - 1s 23us/step - loss: 0.0807 - val_loss: 0.0811\n",
            "Epoch 10/10\n",
            "48000/48000 [==============================] - 1s 24us/step - loss: 0.0801 - val_loss: 0.0806\n"
          ],
          "name": "stdout"
        },
        {
          "output_type": "execute_result",
          "data": {
            "text/plain": [
              "<keras.callbacks.callbacks.History at 0x7f356805f908>"
            ]
          },
          "metadata": {
            "tags": []
          },
          "execution_count": 79
        }
      ]
    },
    {
      "cell_type": "code",
      "metadata": {
        "id": "Nnd9rs05AeDK",
        "colab_type": "code",
        "colab": {
          "base_uri": "https://localhost:8080/",
          "height": 216
        },
        "outputId": "1712ecfb-472f-4cba-9bec-cfd48f6f0196"
      },
      "source": [
        "# =============================================\n",
        "# Take a sample for visualization purposes\n",
        "# =============================================\n",
        "input_sample = input_test[:1]\n",
        "reconstruction = autoencoder.predict([input_sample])\n",
        "\n",
        "# =============================================\n",
        "# Visualize input-->reconstruction\n",
        "# =============================================\n",
        "fig, axes = plt.subplots(1, 2)\n",
        "fig.set_size_inches(6, 3.5)\n",
        "input_sample_reshaped = input_sample.reshape((img_width, img_height))\n",
        "reconsstruction_reshaped = reconstruction.reshape((img_width, img_height))\n",
        "axes[0].imshow(input_sample_reshaped) \n",
        "axes[0].set_title('Original image')\n",
        "axes[1].imshow(reconsstruction_reshaped)\n",
        "axes[1].set_title('Reconstruction')\n",
        "plt.show()"
      ],
      "execution_count": 78,
      "outputs": [
        {
          "output_type": "display_data",
          "data": {
            "image/png": "[encoded data removed]",
            "text/plain": [
              "<Figure size 432x252 with 2 Axes>"
            ]
          },
          "metadata": {
            "tags": [],
            "needs_background": "light"
          }
        }
      ]
    },
    {
      "cell_type": "code",
      "metadata": {
        "id": "GSq4XH_gBWj2",
        "colab_type": "code",
        "colab": {
          "base_uri": "https://localhost:8080/",
          "height": 1000
        },
        "outputId": "6176f23c-2443-4c12-a428-9bcb22b8397f"
      },
      "source": [
        "\n",
        "# =============================================\n",
        "# Visualize encoded state with Keract\n",
        "# =============================================\n",
        "activations = get_activations(encoder, input_sample)\n",
        "display_activations(activations, cmap=\"gray\", save=False)"
      ],
      "execution_count": 81,
      "outputs": [
        {
          "output_type": "stream",
          "text": [
            "input_17 (784,) -> Skipped. First dimension is not 1.\n",
            "dense_7 (1, 50) \n"
          ],
          "name": "stdout"
        },
        {
          "output_type": "display_data",
          "data": {
            "image/png": "[encoded data removed]",
            "text/plain": [
              "<Figure size 1728x1728 with 2 Axes>"
            ]
          },
          "metadata": {
            "tags": [],
            "needs_background": "light"
          }
        }
      ]
    },
    {
      "cell_type": "code",
      "metadata": {
        "id": "GPthVA_ECTpI",
        "colab_type": "code",
        "colab": {}
      },
      "source": [
        ""
      ],
      "execution_count": 0,
      "outputs": []
    }
  ]
}